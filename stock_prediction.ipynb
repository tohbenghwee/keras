{
 "cells": [
  {
   "cell_type": "markdown",
   "metadata": {},
   "source": [
    "## Section 1: Stock Open Price Prediction"
   ]
  },
  {
   "cell_type": "markdown",
   "metadata": {},
   "source": [
    "## Section 2: Project Definition\n",
    "\n",
    "### Goal\n",
    "Predict the Open Price of singtel stock (Z74.SI) in SGX.\n",
    "\n",
    "### Dataset\n",
    "\n",
    "https://sg.finance.yahoo.com/quote/Z74.SI/history?p=Z74.SI\n",
    "\n",
    "The data is obtained from Yahoo Fiancial. It inlcudes for following infomation.\n",
    "\n",
    "***Open*** - Open value of the stock   \n",
    "***High*** - Highest value for the stock on that day   \n",
    "***Low*** - Lowest value of the stock for the day  \n",
    "***Close*** - Closing place of the stock on the day   \n",
    "***Adj Close*** - Adjusted closing price amends a stock's closing price to accurately reflect that stock's value after accounting for any corporate actions   \n",
    "***Volume*** - Volume of stock trade on that day    \n",
    "***Date*** - Date of the data collected dd/MM/yyyy format   \n",
    "\n",
    "\n",
    "\n",
    "### Tasks\n",
    "\n",
    "Tasks to be perform.\n",
    " \n",
    "1. Process the dataset to convert strings into labels.\n",
    "2. Shuffle and split into train and test sets\n",
    "3. Train a classification model, using algorithm A, B, C...\n",
    "4. Compute the metrics for the algorithm.\n",
    "5. Perform analysis for possible improvements.\n",
    "\n",
    "### Libraries\n",
    "\n",
    "Uses package from core python, numpy, pandas, matplotlib , sklearn and keras\n"
   ]
  },
  {
   "cell_type": "markdown",
   "metadata": {},
   "source": [
    "***1) Import all the dependencies needed for this project***"
   ]
  },
  {
   "cell_type": "code",
   "execution_count": 1,
   "metadata": {},
   "outputs": [],
   "source": [
    "from datetime import datetime\n",
    "\n",
    "## numpy\n",
    "import numpy as np\n",
    "from numpy import sqrt\n",
    "from numpy import concatenate\n",
    "\n",
    "## pandas\n",
    "import pandas as pd\n",
    "from pandas import read_csv\n",
    "from pandas import DataFrame\n",
    "from pandas import concat\n",
    "\n",
    "## matplotlib\n",
    "import matplotlib.pyplot as plt\n",
    "\n",
    "## sklearn\n",
    "from sklearn import preprocessing\n",
    "from sklearn.preprocessing import MinMaxScaler\n",
    "from sklearn.metrics import mean_squared_error\n",
    "\n",
    "## keras\n",
    "from keras.layers.core import Dense, Dropout\n",
    "from keras.layers.recurrent import LSTM\n",
    "from keras.models import Sequential\n",
    "\n",
    "## misc\n",
    "import seaborn as sns\n",
    "from statsmodels.graphics.tsaplots import plot_acf\n",
    "\n",
    "\n",
    "%matplotlib inline"
   ]
  },
  {
   "cell_type": "markdown",
   "metadata": {},
   "source": [
    "## Section 3: Data Engineering\n"
   ]
  },
  {
   "cell_type": "markdown",
   "metadata": {},
   "source": [
    "***Import the data set from csv and preview the data info***"
   ]
  },
  {
   "cell_type": "code",
   "execution_count": 2,
   "metadata": {},
   "outputs": [],
   "source": [
    "data = pd.read_csv(\"Z74.SI.5YR.csv\")"
   ]
  },
  {
   "cell_type": "code",
   "execution_count": 3,
   "metadata": {},
   "outputs": [
    {
     "name": "stdout",
     "output_type": "stream",
     "text": [
      "<class 'pandas.core.frame.DataFrame'>\n",
      "RangeIndex: 1253 entries, 0 to 1252\n",
      "Data columns (total 7 columns):\n",
      " #   Column     Non-Null Count  Dtype  \n",
      "---  ------     --------------  -----  \n",
      " 0   Date       1253 non-null   object \n",
      " 1   Open       1253 non-null   float64\n",
      " 2   High       1253 non-null   float64\n",
      " 3   Low        1253 non-null   float64\n",
      " 4   Close      1253 non-null   float64\n",
      " 5   Adj Close  1253 non-null   float64\n",
      " 6   Volume     1253 non-null   int64  \n",
      "dtypes: float64(5), int64(1), object(1)\n",
      "memory usage: 68.6+ KB\n"
     ]
    }
   ],
   "source": [
    "data.info()"
   ]
  },
  {
   "cell_type": "code",
   "execution_count": 4,
   "metadata": {},
   "outputs": [
    {
     "data": {
      "text/html": [
       "<div>\n",
       "<style scoped>\n",
       "    .dataframe tbody tr th:only-of-type {\n",
       "        vertical-align: middle;\n",
       "    }\n",
       "\n",
       "    .dataframe tbody tr th {\n",
       "        vertical-align: top;\n",
       "    }\n",
       "\n",
       "    .dataframe thead th {\n",
       "        text-align: right;\n",
       "    }\n",
       "</style>\n",
       "<table border=\"1\" class=\"dataframe\">\n",
       "  <thead>\n",
       "    <tr style=\"text-align: right;\">\n",
       "      <th></th>\n",
       "      <th>Date</th>\n",
       "      <th>Open</th>\n",
       "      <th>High</th>\n",
       "      <th>Low</th>\n",
       "      <th>Close</th>\n",
       "      <th>Adj Close</th>\n",
       "      <th>Volume</th>\n",
       "    </tr>\n",
       "  </thead>\n",
       "  <tbody>\n",
       "    <tr>\n",
       "      <th>0</th>\n",
       "      <td>28/8/2014</td>\n",
       "      <td>3.91</td>\n",
       "      <td>3.94</td>\n",
       "      <td>3.90</td>\n",
       "      <td>3.91</td>\n",
       "      <td>3.013353</td>\n",
       "      <td>11606000</td>\n",
       "    </tr>\n",
       "    <tr>\n",
       "      <th>1</th>\n",
       "      <td>29/8/2014</td>\n",
       "      <td>3.89</td>\n",
       "      <td>3.89</td>\n",
       "      <td>3.87</td>\n",
       "      <td>3.89</td>\n",
       "      <td>2.997940</td>\n",
       "      <td>11875000</td>\n",
       "    </tr>\n",
       "    <tr>\n",
       "      <th>2</th>\n",
       "      <td>1/9/2014</td>\n",
       "      <td>3.89</td>\n",
       "      <td>3.90</td>\n",
       "      <td>3.86</td>\n",
       "      <td>3.87</td>\n",
       "      <td>2.982526</td>\n",
       "      <td>6806000</td>\n",
       "    </tr>\n",
       "    <tr>\n",
       "      <th>3</th>\n",
       "      <td>2/9/2014</td>\n",
       "      <td>3.89</td>\n",
       "      <td>3.94</td>\n",
       "      <td>3.88</td>\n",
       "      <td>3.94</td>\n",
       "      <td>3.036473</td>\n",
       "      <td>10578000</td>\n",
       "    </tr>\n",
       "    <tr>\n",
       "      <th>4</th>\n",
       "      <td>3/9/2014</td>\n",
       "      <td>3.95</td>\n",
       "      <td>3.97</td>\n",
       "      <td>3.92</td>\n",
       "      <td>3.93</td>\n",
       "      <td>3.028767</td>\n",
       "      <td>10645000</td>\n",
       "    </tr>\n",
       "  </tbody>\n",
       "</table>\n",
       "</div>"
      ],
      "text/plain": [
       "        Date  Open  High   Low  Close  Adj Close    Volume\n",
       "0  28/8/2014  3.91  3.94  3.90   3.91   3.013353  11606000\n",
       "1  29/8/2014  3.89  3.89  3.87   3.89   2.997940  11875000\n",
       "2   1/9/2014  3.89  3.90  3.86   3.87   2.982526   6806000\n",
       "3   2/9/2014  3.89  3.94  3.88   3.94   3.036473  10578000\n",
       "4   3/9/2014  3.95  3.97  3.92   3.93   3.028767  10645000"
      ]
     },
     "execution_count": 4,
     "metadata": {},
     "output_type": "execute_result"
    }
   ],
   "source": [
    "data.head()"
   ]
  },
  {
   "cell_type": "markdown",
   "metadata": {},
   "source": [
    "### Data Cleasing"
   ]
  },
  {
   "cell_type": "code",
   "execution_count": 5,
   "metadata": {},
   "outputs": [],
   "source": [
    "empty = data[data.isna().any(axis=1)].copy()"
   ]
  },
  {
   "cell_type": "code",
   "execution_count": 6,
   "metadata": {},
   "outputs": [
    {
     "data": {
      "image/png": "[encoded data removed]",
      "text/plain": [
       "<Figure size 360x288 with 1 Axes>"
      ]
     },
     "metadata": {
      "needs_background": "light"
     },
     "output_type": "display_data"
    }
   ],
   "source": [
    "fig, ax = plt.subplots(figsize=(5, 4))\n",
    "\n",
    "ax.plot(data['Open'])\n",
    "\n",
    "# mark the rows that are NaN\n",
    "ax.scatter(empty.index, empty['Open'], marker='x', color='red')\n",
    "\n",
    "ax.set_title('Stock Open price time series (missing values marked in red)')\n",
    "\n",
    "plt.show()\n",
    "\n",
    "#Can redo for all columns"
   ]
  },
  {
   "cell_type": "code",
   "execution_count": 7,
   "metadata": {},
   "outputs": [
    {
     "data": {
      "text/plain": [
       "False"
      ]
     },
     "execution_count": 7,
     "metadata": {},
     "output_type": "execute_result"
    }
   ],
   "source": [
    "## Check any null value\n",
    "data.isnull().values.any()\n",
    "\n",
    "## Replace missing value with median value. \n",
    "## For this dataset they are no missing value, so i will be not run the code\n",
    "\n",
    "## The code is to illustrate what i will do if there are missing value.\n",
    "\n",
    "# median = data['Close'].median()\n",
    "# data['NUM_BEDROOMS'].fillna(median, inplace=True)"
   ]
  },
  {
   "cell_type": "markdown",
   "metadata": {},
   "source": [
    "### Data Exploration"
   ]
  },
  {
   "cell_type": "code",
   "execution_count": 8,
   "metadata": {},
   "outputs": [
    {
     "data": {
      "image/png": "[encoded data removed]",
      "text/plain": [
       "<Figure size 432x288 with 6 Axes>"
      ]
     },
     "metadata": {
      "needs_background": "light"
     },
     "output_type": "display_data"
    }
   ],
   "source": [
    "values = data.values\n",
    "# specify columns to plot\n",
    "groups = [ 1, 2, 3, 4, 5 , 6 ]\n",
    "i = 1\n",
    "# plot each column\n",
    "plt.figure()\n",
    "for group in groups:\n",
    "\tplt.subplot(len(groups), 1, i)\n",
    "\tplt.plot(values[:, group])\n",
    "\tplt.title(data.columns[group], y=0.5, loc='right')\n",
    "\ti += 1\n",
    "plt.show()"
   ]
  },
  {
   "cell_type": "code",
   "execution_count": 9,
   "metadata": {},
   "outputs": [
    {
     "data": {
      "image/png": "[encoded data removed]",
      "text/plain": [
       "<Figure size 432x288 with 1 Axes>"
      ]
     },
     "metadata": {
      "needs_background": "light"
     },
     "output_type": "display_data"
    }
   ],
   "source": [
    "plot_acf(data['Open'])\n",
    "plt.show()"
   ]
  },
  {
   "cell_type": "markdown",
   "metadata": {},
   "source": [
    "Open price is correlated to > 30 lags (Day)"
   ]
  },
  {
   "cell_type": "markdown",
   "metadata": {},
   "source": [
    "### Imbalance / Data Sampling"
   ]
  },
  {
   "cell_type": "markdown",
   "metadata": {},
   "source": [
    "The target of this project is not a classification prediction. Therefore does not check for inbalance classes.   \n",
    "There is also not categorical data in the dataset."
   ]
  },
  {
   "cell_type": "markdown",
   "metadata": {},
   "source": [
    "###  Data Encoding"
   ]
  },
  {
   "cell_type": "code",
   "execution_count": 10,
   "metadata": {},
   "outputs": [
    {
     "data": {
      "text/html": [
       "<div>\n",
       "<style scoped>\n",
       "    .dataframe tbody tr th:only-of-type {\n",
       "        vertical-align: middle;\n",
       "    }\n",
       "\n",
       "    .dataframe tbody tr th {\n",
       "        vertical-align: top;\n",
       "    }\n",
       "\n",
       "    .dataframe thead th {\n",
       "        text-align: right;\n",
       "    }\n",
       "</style>\n",
       "<table border=\"1\" class=\"dataframe\">\n",
       "  <thead>\n",
       "    <tr style=\"text-align: right;\">\n",
       "      <th></th>\n",
       "      <th>Date</th>\n",
       "      <th>Open</th>\n",
       "      <th>High</th>\n",
       "      <th>Low</th>\n",
       "      <th>Close</th>\n",
       "      <th>Adj Close</th>\n",
       "      <th>Volume</th>\n",
       "    </tr>\n",
       "  </thead>\n",
       "  <tbody>\n",
       "    <tr>\n",
       "      <th>0</th>\n",
       "      <td>28/8/2014</td>\n",
       "      <td>3.91</td>\n",
       "      <td>3.94</td>\n",
       "      <td>3.90</td>\n",
       "      <td>3.91</td>\n",
       "      <td>3.013353</td>\n",
       "      <td>11606000</td>\n",
       "    </tr>\n",
       "    <tr>\n",
       "      <th>1</th>\n",
       "      <td>29/8/2014</td>\n",
       "      <td>3.89</td>\n",
       "      <td>3.89</td>\n",
       "      <td>3.87</td>\n",
       "      <td>3.89</td>\n",
       "      <td>2.997940</td>\n",
       "      <td>11875000</td>\n",
       "    </tr>\n",
       "  </tbody>\n",
       "</table>\n",
       "</div>"
      ],
      "text/plain": [
       "        Date  Open  High   Low  Close  Adj Close    Volume\n",
       "0  28/8/2014  3.91  3.94  3.90   3.91   3.013353  11606000\n",
       "1  29/8/2014  3.89  3.89  3.87   3.89   2.997940  11875000"
      ]
     },
     "execution_count": 10,
     "metadata": {},
     "output_type": "execute_result"
    }
   ],
   "source": [
    "data.head(2)"
   ]
  },
  {
   "cell_type": "markdown",
   "metadata": {},
   "source": [
    "The data set consist of a date column and the rest of the feature are in numerical form.  \n",
    "No categories transformation/encoding is not needed for this dataset."
   ]
  },
  {
   "cell_type": "markdown",
   "metadata": {},
   "source": []
  },
  {
   "cell_type": "markdown",
   "metadata": {},
   "source": [
    "## Section 4: Feature Engineering"
   ]
  },
  {
   "cell_type": "markdown",
   "metadata": {},
   "source": [
    "###  Pearson's correlation coefficient "
   ]
  },
  {
   "cell_type": "code",
   "execution_count": 11,
   "metadata": {},
   "outputs": [
    {
     "data": {
      "image/png": "[encoded data removed]",
      "text/plain": [
       "<Figure size 864x720 with 2 Axes>"
      ]
     },
     "metadata": {
      "needs_background": "light"
     },
     "output_type": "display_data"
    }
   ],
   "source": [
    "# Using Pearson Correlation\n",
    "plt.figure(figsize=(12,10))\n",
    "cor = data.corr()\n",
    "sns.heatmap(cor, annot=True,cmap='Blues', fmt='g')\n",
    "plt.show()"
   ]
  },
  {
   "cell_type": "code",
   "execution_count": 12,
   "metadata": {},
   "outputs": [
    {
     "name": "stdout",
     "output_type": "stream",
     "text": [
      "Open         1.000000\n",
      "High         0.998105\n",
      "Low          0.998311\n",
      "Close        0.996312\n",
      "Adj Close    0.727258\n",
      "Name: Open, dtype: float64\n"
     ]
    }
   ],
   "source": [
    "\n",
    "#Correlation with output variable\n",
    "cor_target = abs(cor[\"Open\"])\n",
    "\n",
    "#Selecting highly correlated features\n",
    "relevant_features = cor_target[cor_target > 0.5]\n",
    "print(relevant_features)\n"
   ]
  },
  {
   "cell_type": "markdown",
   "metadata": {},
   "source": [
    "We use > 0.8 to filter those highly correlated attribute against Open price.   \n",
    "***High, Low and Close*** are the 3 attributes which is highly correlated to ***Open price***.\n",
    "\n",
    "So we can choose this 3 columns as the feature and Open Price.\n"
   ]
  },
  {
   "cell_type": "markdown",
   "metadata": {},
   "source": [
    "## Section 5: Model Engineering"
   ]
  },
  {
   "cell_type": "markdown",
   "metadata": {},
   "source": [
    "### Models to use"
   ]
  },
  {
   "cell_type": "markdown",
   "metadata": {},
   "source": [
    "Long Short-Term Memory (LSTM) will be used.  \n",
    "The networks are designed for sequence prediction problems.   \n",
    "\n",
    "Many-to-One Model is used. A many-to-one model produces one output value after receiving multiple input values.   \n",
    "Our model will have 4 input (Open, High, Low and Close) and 1 output (Open price)."
   ]
  },
  {
   "cell_type": "markdown",
   "metadata": {},
   "source": [
    "### Hyperparameters"
   ]
  },
  {
   "cell_type": "markdown",
   "metadata": {},
   "source": [
    "- choosing the right amount of nodes and layers"
   ]
  },
  {
   "cell_type": "markdown",
   "metadata": {},
   "source": [
    "### Data for training, test and validation"
   ]
  },
  {
   "cell_type": "markdown",
   "metadata": {},
   "source": [
    "A simple strategy is used for diving train and test set.  \n",
    "Data is divide into 50% train and 50% test"
   ]
  },
  {
   "cell_type": "markdown",
   "metadata": {},
   "source": [
    "## Section 6: Evalution metric"
   ]
  },
  {
   "cell_type": "markdown",
   "metadata": {},
   "source": [
    "## Section 7: Training model without time lags (timestep = 1)"
   ]
  },
  {
   "cell_type": "markdown",
   "metadata": {},
   "source": [
    "### Define function(s)\n",
    "Define the function series_to_supervised, This is from referenced from Jason Brownlee which i find it useful."
   ]
  },
  {
   "cell_type": "code",
   "execution_count": 13,
   "metadata": {},
   "outputs": [],
   "source": [
    "def series_to_supervised(data, n_in=1, n_out=1, dropnan=True):\n",
    "\tn_vars = 1 if type(data) is list else data.shape[1]\n",
    "\tdf = DataFrame(data)\n",
    "\tcols, names = list(), list()\n",
    "\t# input sequence (t-n, ... t-1)\n",
    "\tfor i in range(n_in, 0, -1):\n",
    "\t\tcols.append(df.shift(i))\n",
    "\t\tnames += [('var%d(t-%d)' % (j+1, i)) for j in range(n_vars)]\n",
    "\t# forecast sequence (t, t+1, ... t+n)\n",
    "\tfor i in range(0, n_out):\n",
    "\t\tcols.append(df.shift(-i))\n",
    "\t\tif i == 0:\n",
    "\t\t\tnames += [('var%d(t)' % (j+1)) for j in range(n_vars)]\n",
    "\t\telse:\n",
    "\t\t\tnames += [('var%d(t+%d)' % (j+1, i)) for j in range(n_vars)]\n",
    "\t# put it all together\n",
    "\tagg = concat(cols, axis=1)\n",
    "\tagg.columns = names\n",
    "\t# drop rows with NaN values\n",
    "\tif dropnan:\n",
    "\t\tagg.dropna(inplace=True)\n",
    "\treturn agg"
   ]
  },
  {
   "cell_type": "markdown",
   "metadata": {},
   "source": [
    "### Select columns for training the model"
   ]
  },
  {
   "cell_type": "code",
   "execution_count": 14,
   "metadata": {},
   "outputs": [
    {
     "name": "stdout",
     "output_type": "stream",
     "text": [
      "Index(['Date', 'Open', 'High', 'Low', 'Close', 'Adj Close', 'Volume'], dtype='object')\n",
      "   Open  High   Low  Close  Adj Close\n",
      "0  3.91  3.94  3.90   3.91   3.013353\n",
      "1  3.89  3.89  3.87   3.89   2.997940\n",
      "2  3.89  3.90  3.86   3.87   2.982526\n",
      "3  3.89  3.94  3.88   3.94   3.036473\n",
      "4  3.95  3.97  3.92   3.93   3.028767\n"
     ]
    }
   ],
   "source": [
    "## Display the available columns names\n",
    "print(data.columns)\n",
    "\n",
    "## from the available column, choose which column to use base on the feature selection\n",
    "## The target attribute has to be the first column\n",
    "selected_columns = ['Open', 'High', 'Low', 'Close','Adj Close']\n",
    "\n",
    "## make a copy of the selected data\n",
    "selected_data = data[selected_columns].copy()\n",
    "\n",
    "print(selected_data.head())                     "
   ]
  },
  {
   "cell_type": "markdown",
   "metadata": {},
   "source": [
    "### Reframe the data"
   ]
  },
  {
   "cell_type": "code",
   "execution_count": 15,
   "metadata": {},
   "outputs": [
    {
     "name": "stdout",
     "output_type": "stream",
     "text": [
      "   var1(t-1)  var2(t-1)  var3(t-1)  var4(t-1)  var5(t-1)   var1(t)\n",
      "1   0.618497   0.625000   0.652439   0.628742   0.333396  0.606936\n",
      "2   0.606936   0.595238   0.634146   0.616766   0.316586  0.606936\n",
      "3   0.606936   0.601190   0.628049   0.604790   0.299776  0.606936\n",
      "4   0.606936   0.625000   0.640244   0.646707   0.358610  0.641618\n",
      "5   0.641618   0.642857   0.664634   0.640718   0.350206  0.635838\n"
     ]
    }
   ],
   "source": [
    "values = selected_data.values\n",
    "\n",
    "# ensure all data is float\n",
    "values = values.astype('float32')\n",
    "\n",
    "# normalize features\n",
    "scaler = MinMaxScaler(feature_range=(0, 1))\n",
    "scaled = scaler.fit_transform(values)\n",
    "\n",
    "# frame as supervised learning\n",
    "# time step here is 1\n",
    "reframed = series_to_supervised(scaled, 1, 1)\n",
    "\n",
    "# drop columns we don't want to predict\n",
    "rows, reframed_columns = reframed.shape\n",
    "\n",
    "## this part is to drop the last 4 column from the reframed data\n",
    "column = selected_data.shape[1]\n",
    "col = []\n",
    "for x in range(reframed_columns - column + 1, reframed_columns):\n",
    "    col.append(x)\n",
    "    \n",
    "reframed.drop(reframed.columns[col], axis=1, inplace=True)\n",
    "print(reframed.head())\n",
    "\n",
    "## This code is referenced from Jason Brownlee tutorial with some modification\n",
    "## var1 = Open, var2 = High , var3 = Low , var4 = Close  var5=Adj Close"
   ]
  },
  {
   "cell_type": "markdown",
   "metadata": {},
   "source": [
    "### Split into train and test sets"
   ]
  },
  {
   "cell_type": "code",
   "execution_count": 16,
   "metadata": {},
   "outputs": [
    {
     "name": "stdout",
     "output_type": "stream",
     "text": [
      "(626, 1, 5) (626,) (626, 1, 5) (626,)\n"
     ]
    }
   ],
   "source": [
    "# split into train and test sets\n",
    "values = reframed.values\n",
    "\n",
    "## Our timestep is in days. since 50% is used for training\n",
    "n_train_days = selected_data.shape[0]//2\n",
    "train = values[:n_train_days, :]\n",
    "test = values[n_train_days:, :]\n",
    "# split into input and outputs\n",
    "train_X, train_y = train[:, :-1], train[:, -1]\n",
    "test_X, test_y = test[:, :-1], test[:, -1]\n",
    "# reshape input to be 3D [samples, timesteps, features]\n",
    "train_X = train_X.reshape((train_X.shape[0], 1, train_X.shape[1]))\n",
    "test_X = test_X.reshape((test_X.shape[0], 1, test_X.shape[1]))\n",
    "print(train_X.shape, train_y.shape, test_X.shape, test_y.shape)\n"
   ]
  },
  {
   "cell_type": "markdown",
   "metadata": {},
   "source": [
    "### Built the model"
   ]
  },
  {
   "cell_type": "code",
   "execution_count": 17,
   "metadata": {},
   "outputs": [],
   "source": [
    "# design network\n",
    "model = Sequential()\n",
    "model.add(LSTM(50, input_shape=(train_X.shape[1], train_X.shape[2])))\n",
    "model.add(Dense(1))\n",
    "model.compile(loss='mae', optimizer='adam')"
   ]
  },
  {
   "cell_type": "markdown",
   "metadata": {},
   "source": [
    "### Train the model"
   ]
  },
  {
   "cell_type": "code",
   "execution_count": 18,
   "metadata": {},
   "outputs": [
    {
     "name": "stdout",
     "output_type": "stream",
     "text": [
      "Epoch 1/50\n",
      "20/20 - 0s - loss: 0.4593 - val_loss: 0.1363\n",
      "Epoch 2/50\n",
      "20/20 - 0s - loss: 0.2156 - val_loss: 0.0631\n",
      "Epoch 3/50\n",
      "20/20 - 0s - loss: 0.0585 - val_loss: 0.0995\n",
      "Epoch 4/50\n",
      "20/20 - 0s - loss: 0.0292 - val_loss: 0.0769\n",
      "Epoch 5/50\n",
      "20/20 - 0s - loss: 0.0392 - val_loss: 0.0820\n",
      "Epoch 6/50\n",
      "20/20 - 0s - loss: 0.0328 - val_loss: 0.0729\n",
      "Epoch 7/50\n",
      "20/20 - 0s - loss: 0.0373 - val_loss: 0.0774\n",
      "Epoch 8/50\n",
      "20/20 - 0s - loss: 0.0309 - val_loss: 0.0674\n",
      "Epoch 9/50\n",
      "20/20 - 0s - loss: 0.0361 - val_loss: 0.0724\n",
      "Epoch 10/50\n",
      "20/20 - 0s - loss: 0.0294 - val_loss: 0.0621\n",
      "Epoch 11/50\n",
      "20/20 - 0s - loss: 0.0345 - val_loss: 0.0663\n",
      "Epoch 12/50\n",
      "20/20 - 0s - loss: 0.0285 - val_loss: 0.0576\n",
      "Epoch 13/50\n",
      "20/20 - 0s - loss: 0.0325 - val_loss: 0.0599\n",
      "Epoch 14/50\n",
      "20/20 - 0s - loss: 0.0271 - val_loss: 0.0517\n",
      "Epoch 15/50\n",
      "20/20 - 0s - loss: 0.0316 - val_loss: 0.0553\n",
      "Epoch 16/50\n",
      "20/20 - 0s - loss: 0.0256 - val_loss: 0.0470\n",
      "Epoch 17/50\n",
      "20/20 - 0s - loss: 0.0297 - val_loss: 0.0495\n",
      "Epoch 18/50\n",
      "20/20 - 0s - loss: 0.0246 - val_loss: 0.0425\n",
      "Epoch 19/50\n",
      "20/20 - 0s - loss: 0.0277 - val_loss: 0.0438\n",
      "Epoch 20/50\n",
      "20/20 - 0s - loss: 0.0236 - val_loss: 0.0375\n",
      "Epoch 21/50\n",
      "20/20 - 0s - loss: 0.0264 - val_loss: 0.0385\n",
      "Epoch 22/50\n",
      "20/20 - 0s - loss: 0.0220 - val_loss: 0.0334\n",
      "Epoch 23/50\n",
      "20/20 - 0s - loss: 0.0237 - val_loss: 0.0318\n",
      "Epoch 24/50\n",
      "20/20 - 0s - loss: 0.0227 - val_loss: 0.0305\n",
      "Epoch 25/50\n",
      "20/20 - 0s - loss: 0.0208 - val_loss: 0.0288\n",
      "Epoch 26/50\n",
      "20/20 - 0s - loss: 0.0191 - val_loss: 0.0261\n",
      "Epoch 27/50\n",
      "20/20 - 0s - loss: 0.0193 - val_loss: 0.0247\n",
      "Epoch 28/50\n",
      "20/20 - 0s - loss: 0.0188 - val_loss: 0.0237\n",
      "Epoch 29/50\n",
      "20/20 - 0s - loss: 0.0172 - val_loss: 0.0223\n",
      "Epoch 30/50\n",
      "20/20 - 0s - loss: 0.0164 - val_loss: 0.0220\n",
      "Epoch 31/50\n",
      "20/20 - 0s - loss: 0.0155 - val_loss: 0.0222\n",
      "Epoch 32/50\n",
      "20/20 - 0s - loss: 0.0146 - val_loss: 0.0229\n",
      "Epoch 33/50\n",
      "20/20 - 0s - loss: 0.0141 - val_loss: 0.0237\n",
      "Epoch 34/50\n",
      "20/20 - 0s - loss: 0.0139 - val_loss: 0.0244\n",
      "Epoch 35/50\n",
      "20/20 - 0s - loss: 0.0137 - val_loss: 0.0248\n",
      "Epoch 36/50\n",
      "20/20 - 0s - loss: 0.0136 - val_loss: 0.0260\n",
      "Epoch 37/50\n",
      "20/20 - 0s - loss: 0.0135 - val_loss: 0.0257\n",
      "Epoch 38/50\n",
      "20/20 - 0s - loss: 0.0137 - val_loss: 0.0258\n",
      "Epoch 39/50\n",
      "20/20 - 0s - loss: 0.0136 - val_loss: 0.0258\n",
      "Epoch 40/50\n",
      "20/20 - 0s - loss: 0.0136 - val_loss: 0.0263\n",
      "Epoch 41/50\n",
      "20/20 - 0s - loss: 0.0134 - val_loss: 0.0260\n",
      "Epoch 42/50\n",
      "20/20 - 0s - loss: 0.0136 - val_loss: 0.0258\n",
      "Epoch 43/50\n",
      "20/20 - 0s - loss: 0.0136 - val_loss: 0.0262\n",
      "Epoch 44/50\n",
      "20/20 - 0s - loss: 0.0135 - val_loss: 0.0264\n",
      "Epoch 45/50\n",
      "20/20 - 0s - loss: 0.0134 - val_loss: 0.0264\n",
      "Epoch 46/50\n",
      "20/20 - 0s - loss: 0.0135 - val_loss: 0.0262\n",
      "Epoch 47/50\n",
      "20/20 - 0s - loss: 0.0135 - val_loss: 0.0263\n",
      "Epoch 48/50\n",
      "20/20 - 0s - loss: 0.0135 - val_loss: 0.0266\n",
      "Epoch 49/50\n",
      "20/20 - 0s - loss: 0.0134 - val_loss: 0.0264\n",
      "Epoch 50/50\n",
      "20/20 - 0s - loss: 0.0135 - val_loss: 0.0271\n"
     ]
    }
   ],
   "source": [
    "# fit network\n",
    "history = model.fit(train_X, train_y, epochs=50, batch_size=32, validation_data=(test_X, test_y), verbose=2, shuffle=False)"
   ]
  },
  {
   "cell_type": "markdown",
   "metadata": {},
   "source": [
    "### Plot the history graph"
   ]
  },
  {
   "cell_type": "code",
   "execution_count": 19,
   "metadata": {},
   "outputs": [
    {
     "data": {
      "image/png": "[encoded data removed]",
      "text/plain": [
       "<Figure size 720x576 with 1 Axes>"
      ]
     },
     "metadata": {
      "needs_background": "light"
     },
     "output_type": "display_data"
    }
   ],
   "source": [
    "# plot history\n",
    "fig, ax = plt.subplots(figsize=(10, 8))\n",
    "ax.plot(history.history['loss'], label='train')\n",
    "ax.plot(history.history['val_loss'], label='val')\n",
    "ax.legend()\n",
    "plt.show()"
   ]
  },
  {
   "cell_type": "markdown",
   "metadata": {},
   "source": [
    "### Evaluation of model with RMSE"
   ]
  },
  {
   "cell_type": "code",
   "execution_count": 20,
   "metadata": {},
   "outputs": [
    {
     "name": "stdout",
     "output_type": "stream",
     "text": [
      "Evaluation result for 1 time step (measure in RMSE): 0.058\n"
     ]
    }
   ],
   "source": [
    "# make a prediction\n",
    "yhat = model.predict(test_X)\n",
    "test_X = test_X.reshape((test_X.shape[0], test_X.shape[2]))\n",
    "# invert scaling for forecast\n",
    "inv_yhat = concatenate((yhat, test_X[:, 1:]), axis=1)\n",
    "inv_yhat = scaler.inverse_transform(inv_yhat)\n",
    "inv_yhat = inv_yhat[:,0]\n",
    "# invert scaling for actual\n",
    "test_y = test_y.reshape((len(test_y), 1))\n",
    "inv_y = concatenate((test_y, test_X[:, 1:]), axis=1)\n",
    "inv_y = scaler.inverse_transform(inv_y)\n",
    "inv_y = inv_y[:,0]\n",
    "# calculate RMSE\n",
    "rmse_1 = sqrt(mean_squared_error(inv_y, inv_yhat))\n",
    "print('Evaluation result for 1 time step (measure in RMSE): %.3f' % rmse_1)"
   ]
  },
  {
   "cell_type": "markdown",
   "metadata": {},
   "source": [
    "## Section 8: Training model  with timestep = 3"
   ]
  },
  {
   "cell_type": "markdown",
   "metadata": {},
   "source": [
    "### Reframe the data to for 3 timestep"
   ]
  },
  {
   "cell_type": "code",
   "execution_count": 21,
   "metadata": {},
   "outputs": [],
   "source": [
    "\n",
    "# specify the number of lag days since our time step is days\n",
    "n_days = 3\n",
    "n_features =  len(selected_columns) \n",
    "# frame as supervised learning\n",
    "reframed = series_to_supervised(scaled, n_days, 1)\n",
    "\n",
    "#rows, reframed_columns = reframed.shape\n",
    "#print(reframed_columns)\n",
    "\n",
    "# split into train and test sets\n",
    "values = reframed.values\n",
    "\n",
    "# use 50 % of data set\n",
    "n_train_days = selected_data.shape[0]//2\n",
    "train = values[:n_train_days, :]\n",
    "test = values[n_train_days:, :]"
   ]
  },
  {
   "cell_type": "code",
   "execution_count": 22,
   "metadata": {},
   "outputs": [
    {
     "data": {
      "text/html": [
       "<div>\n",
       "<style scoped>\n",
       "    .dataframe tbody tr th:only-of-type {\n",
       "        vertical-align: middle;\n",
       "    }\n",
       "\n",
       "    .dataframe tbody tr th {\n",
       "        vertical-align: top;\n",
       "    }\n",
       "\n",
       "    .dataframe thead th {\n",
       "        text-align: right;\n",
       "    }\n",
       "</style>\n",
       "<table border=\"1\" class=\"dataframe\">\n",
       "  <thead>\n",
       "    <tr style=\"text-align: right;\">\n",
       "      <th></th>\n",
       "      <th>var1(t-3)</th>\n",
       "      <th>var2(t-3)</th>\n",
       "      <th>var3(t-3)</th>\n",
       "      <th>var4(t-3)</th>\n",
       "      <th>var5(t-3)</th>\n",
       "      <th>var1(t-2)</th>\n",
       "      <th>var2(t-2)</th>\n",
       "      <th>var3(t-2)</th>\n",
       "      <th>var4(t-2)</th>\n",
       "      <th>var5(t-2)</th>\n",
       "      <th>var1(t-1)</th>\n",
       "      <th>var2(t-1)</th>\n",
       "      <th>var3(t-1)</th>\n",
       "      <th>var4(t-1)</th>\n",
       "      <th>var5(t-1)</th>\n",
       "      <th>var1(t)</th>\n",
       "      <th>var2(t)</th>\n",
       "      <th>var3(t)</th>\n",
       "      <th>var4(t)</th>\n",
       "      <th>var5(t)</th>\n",
       "    </tr>\n",
       "  </thead>\n",
       "  <tbody>\n",
       "    <tr>\n",
       "      <th>3</th>\n",
       "      <td>0.618497</td>\n",
       "      <td>0.625000</td>\n",
       "      <td>0.652439</td>\n",
       "      <td>0.628742</td>\n",
       "      <td>0.333396</td>\n",
       "      <td>0.606936</td>\n",
       "      <td>0.595238</td>\n",
       "      <td>0.634146</td>\n",
       "      <td>0.616766</td>\n",
       "      <td>0.316586</td>\n",
       "      <td>0.606936</td>\n",
       "      <td>0.601190</td>\n",
       "      <td>0.628049</td>\n",
       "      <td>0.604790</td>\n",
       "      <td>0.299776</td>\n",
       "      <td>0.606936</td>\n",
       "      <td>0.625000</td>\n",
       "      <td>0.640244</td>\n",
       "      <td>0.646707</td>\n",
       "      <td>0.358610</td>\n",
       "    </tr>\n",
       "    <tr>\n",
       "      <th>4</th>\n",
       "      <td>0.606936</td>\n",
       "      <td>0.595238</td>\n",
       "      <td>0.634146</td>\n",
       "      <td>0.616766</td>\n",
       "      <td>0.316586</td>\n",
       "      <td>0.606936</td>\n",
       "      <td>0.601190</td>\n",
       "      <td>0.628049</td>\n",
       "      <td>0.604790</td>\n",
       "      <td>0.299776</td>\n",
       "      <td>0.606936</td>\n",
       "      <td>0.625000</td>\n",
       "      <td>0.640244</td>\n",
       "      <td>0.646707</td>\n",
       "      <td>0.358610</td>\n",
       "      <td>0.641618</td>\n",
       "      <td>0.642857</td>\n",
       "      <td>0.664634</td>\n",
       "      <td>0.640718</td>\n",
       "      <td>0.350206</td>\n",
       "    </tr>\n",
       "    <tr>\n",
       "      <th>5</th>\n",
       "      <td>0.606936</td>\n",
       "      <td>0.601190</td>\n",
       "      <td>0.628049</td>\n",
       "      <td>0.604790</td>\n",
       "      <td>0.299776</td>\n",
       "      <td>0.606936</td>\n",
       "      <td>0.625000</td>\n",
       "      <td>0.640244</td>\n",
       "      <td>0.646707</td>\n",
       "      <td>0.358610</td>\n",
       "      <td>0.641618</td>\n",
       "      <td>0.642857</td>\n",
       "      <td>0.664634</td>\n",
       "      <td>0.640718</td>\n",
       "      <td>0.350206</td>\n",
       "      <td>0.635838</td>\n",
       "      <td>0.630952</td>\n",
       "      <td>0.658537</td>\n",
       "      <td>0.640718</td>\n",
       "      <td>0.350206</td>\n",
       "    </tr>\n",
       "    <tr>\n",
       "      <th>6</th>\n",
       "      <td>0.606936</td>\n",
       "      <td>0.625000</td>\n",
       "      <td>0.640244</td>\n",
       "      <td>0.646707</td>\n",
       "      <td>0.358610</td>\n",
       "      <td>0.641618</td>\n",
       "      <td>0.642857</td>\n",
       "      <td>0.664634</td>\n",
       "      <td>0.640718</td>\n",
       "      <td>0.350206</td>\n",
       "      <td>0.635838</td>\n",
       "      <td>0.630952</td>\n",
       "      <td>0.658537</td>\n",
       "      <td>0.640718</td>\n",
       "      <td>0.350206</td>\n",
       "      <td>0.630058</td>\n",
       "      <td>0.625000</td>\n",
       "      <td>0.646342</td>\n",
       "      <td>0.628742</td>\n",
       "      <td>0.333396</td>\n",
       "    </tr>\n",
       "    <tr>\n",
       "      <th>7</th>\n",
       "      <td>0.641618</td>\n",
       "      <td>0.642857</td>\n",
       "      <td>0.664634</td>\n",
       "      <td>0.640718</td>\n",
       "      <td>0.350206</td>\n",
       "      <td>0.635838</td>\n",
       "      <td>0.630952</td>\n",
       "      <td>0.658537</td>\n",
       "      <td>0.640718</td>\n",
       "      <td>0.350206</td>\n",
       "      <td>0.630058</td>\n",
       "      <td>0.625000</td>\n",
       "      <td>0.646342</td>\n",
       "      <td>0.628742</td>\n",
       "      <td>0.333396</td>\n",
       "      <td>0.618497</td>\n",
       "      <td>0.613095</td>\n",
       "      <td>0.646342</td>\n",
       "      <td>0.634730</td>\n",
       "      <td>0.341801</td>\n",
       "    </tr>\n",
       "  </tbody>\n",
       "</table>\n",
       "</div>"
      ],
      "text/plain": [
       "   var1(t-3)  var2(t-3)  var3(t-3)  var4(t-3)  var5(t-3)  var1(t-2)  \\\n",
       "3   0.618497   0.625000   0.652439   0.628742   0.333396   0.606936   \n",
       "4   0.606936   0.595238   0.634146   0.616766   0.316586   0.606936   \n",
       "5   0.606936   0.601190   0.628049   0.604790   0.299776   0.606936   \n",
       "6   0.606936   0.625000   0.640244   0.646707   0.358610   0.641618   \n",
       "7   0.641618   0.642857   0.664634   0.640718   0.350206   0.635838   \n",
       "\n",
       "   var2(t-2)  var3(t-2)  var4(t-2)  var5(t-2)  var1(t-1)  var2(t-1)  \\\n",
       "3   0.595238   0.634146   0.616766   0.316586   0.606936   0.601190   \n",
       "4   0.601190   0.628049   0.604790   0.299776   0.606936   0.625000   \n",
       "5   0.625000   0.640244   0.646707   0.358610   0.641618   0.642857   \n",
       "6   0.642857   0.664634   0.640718   0.350206   0.635838   0.630952   \n",
       "7   0.630952   0.658537   0.640718   0.350206   0.630058   0.625000   \n",
       "\n",
       "   var3(t-1)  var4(t-1)  var5(t-1)   var1(t)   var2(t)   var3(t)   var4(t)  \\\n",
       "3   0.628049   0.604790   0.299776  0.606936  0.625000  0.640244  0.646707   \n",
       "4   0.640244   0.646707   0.358610  0.641618  0.642857  0.664634  0.640718   \n",
       "5   0.664634   0.640718   0.350206  0.635838  0.630952  0.658537  0.640718   \n",
       "6   0.658537   0.640718   0.350206  0.630058  0.625000  0.646342  0.628742   \n",
       "7   0.646342   0.628742   0.333396  0.618497  0.613095  0.646342  0.634730   \n",
       "\n",
       "    var5(t)  \n",
       "3  0.358610  \n",
       "4  0.350206  \n",
       "5  0.350206  \n",
       "6  0.333396  \n",
       "7  0.341801  "
      ]
     },
     "execution_count": 22,
     "metadata": {},
     "output_type": "execute_result"
    }
   ],
   "source": [
    "reframed.head()"
   ]
  },
  {
   "cell_type": "code",
   "execution_count": 23,
   "metadata": {},
   "outputs": [
    {
     "name": "stdout",
     "output_type": "stream",
     "text": [
      "15\n",
      "(626, 15) 626 (626,)\n"
     ]
    }
   ],
   "source": [
    "\n",
    "# split into input and outputs\n",
    "n_obs = n_days * n_features\n",
    "print(n_obs)\n",
    "train_X, train_y = train[:, :n_obs], train[:, -n_features]\n",
    "test_X, test_y = test[:, :n_obs], test[:, -n_features]\n",
    "print(train_X.shape, len(train_X), train_y.shape)"
   ]
  },
  {
   "cell_type": "code",
   "execution_count": 24,
   "metadata": {},
   "outputs": [],
   "source": [
    "\n",
    "# reshape input to be 3D [samples, timesteps, features]\n",
    "train_X = train_X.reshape((train_X.shape[0], n_days, n_features))\n",
    "test_X = test_X.reshape((test_X.shape[0], n_days, n_features))\n"
   ]
  },
  {
   "cell_type": "markdown",
   "metadata": {},
   "source": [
    "## Built the model"
   ]
  },
  {
   "cell_type": "code",
   "execution_count": 25,
   "metadata": {},
   "outputs": [],
   "source": [
    "# design network\n",
    "model = Sequential()\n",
    "model.add(LSTM(50, input_shape=(train_X.shape[1], train_X.shape[2])))\n",
    "model.add(Dense(1))\n",
    "model.compile(loss='mae', optimizer='adam')\n"
   ]
  },
  {
   "cell_type": "markdown",
   "metadata": {},
   "source": [
    "## Train the model"
   ]
  },
  {
   "cell_type": "code",
   "execution_count": 26,
   "metadata": {},
   "outputs": [
    {
     "name": "stdout",
     "output_type": "stream",
     "text": [
      "Epoch 1/50\n",
      "20/20 - 0s - loss: 0.4101 - val_loss: 0.0811\n",
      "Epoch 2/50\n",
      "20/20 - 0s - loss: 0.0627 - val_loss: 0.0502\n",
      "Epoch 3/50\n",
      "20/20 - 0s - loss: 0.0576 - val_loss: 0.0522\n",
      "Epoch 4/50\n",
      "20/20 - 0s - loss: 0.0613 - val_loss: 0.0605\n",
      "Epoch 5/50\n",
      "20/20 - 0s - loss: 0.0421 - val_loss: 0.0456\n",
      "Epoch 6/50\n",
      "20/20 - 0s - loss: 0.0452 - val_loss: 0.0413\n",
      "Epoch 7/50\n",
      "20/20 - 0s - loss: 0.0453 - val_loss: 0.0387\n",
      "Epoch 8/50\n",
      "20/20 - 0s - loss: 0.0415 - val_loss: 0.0347\n",
      "Epoch 9/50\n",
      "20/20 - 0s - loss: 0.0412 - val_loss: 0.0318\n",
      "Epoch 10/50\n",
      "20/20 - 0s - loss: 0.0388 - val_loss: 0.0292\n",
      "Epoch 11/50\n",
      "20/20 - 0s - loss: 0.0372 - val_loss: 0.0270\n",
      "Epoch 12/50\n",
      "20/20 - 0s - loss: 0.0363 - val_loss: 0.0252\n",
      "Epoch 13/50\n",
      "20/20 - 0s - loss: 0.0331 - val_loss: 0.0239\n",
      "Epoch 14/50\n",
      "20/20 - 0s - loss: 0.0291 - val_loss: 0.0231\n",
      "Epoch 15/50\n",
      "20/20 - 0s - loss: 0.0258 - val_loss: 0.0235\n",
      "Epoch 16/50\n",
      "20/20 - 0s - loss: 0.0236 - val_loss: 0.0277\n",
      "Epoch 17/50\n",
      "20/20 - 0s - loss: 0.0223 - val_loss: 0.0321\n",
      "Epoch 18/50\n",
      "20/20 - 0s - loss: 0.0210 - val_loss: 0.0326\n",
      "Epoch 19/50\n",
      "20/20 - 0s - loss: 0.0215 - val_loss: 0.0337\n",
      "Epoch 20/50\n",
      "20/20 - 0s - loss: 0.0215 - val_loss: 0.0344\n",
      "Epoch 21/50\n",
      "20/20 - 0s - loss: 0.0217 - val_loss: 0.0349\n",
      "Epoch 22/50\n",
      "20/20 - 0s - loss: 0.0219 - val_loss: 0.0351\n",
      "Epoch 23/50\n",
      "20/20 - 0s - loss: 0.0220 - val_loss: 0.0363\n",
      "Epoch 24/50\n",
      "20/20 - 0s - loss: 0.0221 - val_loss: 0.0374\n",
      "Epoch 25/50\n",
      "20/20 - 0s - loss: 0.0220 - val_loss: 0.0383\n",
      "Epoch 26/50\n",
      "20/20 - 0s - loss: 0.0225 - val_loss: 0.0385\n",
      "Epoch 27/50\n",
      "20/20 - 0s - loss: 0.0233 - val_loss: 0.0398\n",
      "Epoch 28/50\n",
      "20/20 - 0s - loss: 0.0237 - val_loss: 0.0398\n",
      "Epoch 29/50\n",
      "20/20 - 0s - loss: 0.0243 - val_loss: 0.0393\n",
      "Epoch 30/50\n",
      "20/20 - 0s - loss: 0.0251 - val_loss: 0.0386\n",
      "Epoch 31/50\n",
      "20/20 - 0s - loss: 0.0261 - val_loss: 0.0385\n",
      "Epoch 32/50\n",
      "20/20 - 0s - loss: 0.0271 - val_loss: 0.0356\n",
      "Epoch 33/50\n",
      "20/20 - 0s - loss: 0.0297 - val_loss: 0.0324\n",
      "Epoch 34/50\n",
      "20/20 - 0s - loss: 0.0333 - val_loss: 0.0290\n",
      "Epoch 35/50\n",
      "20/20 - 0s - loss: 0.0396 - val_loss: 0.0265\n",
      "Epoch 36/50\n",
      "20/20 - 0s - loss: 0.0387 - val_loss: 0.0242\n",
      "Epoch 37/50\n",
      "20/20 - 0s - loss: 0.0358 - val_loss: 0.0222\n",
      "Epoch 38/50\n",
      "20/20 - 0s - loss: 0.0356 - val_loss: 0.0207\n",
      "Epoch 39/50\n",
      "20/20 - 0s - loss: 0.0328 - val_loss: 0.0196\n",
      "Epoch 40/50\n",
      "20/20 - 0s - loss: 0.0292 - val_loss: 0.0181\n",
      "Epoch 41/50\n",
      "20/20 - 0s - loss: 0.0245 - val_loss: 0.0177\n",
      "Epoch 42/50\n",
      "20/20 - 0s - loss: 0.0211 - val_loss: 0.0208\n",
      "Epoch 43/50\n",
      "20/20 - 0s - loss: 0.0199 - val_loss: 0.0254\n",
      "Epoch 44/50\n",
      "20/20 - 0s - loss: 0.0190 - val_loss: 0.0259\n",
      "Epoch 45/50\n",
      "20/20 - 0s - loss: 0.0192 - val_loss: 0.0254\n",
      "Epoch 46/50\n",
      "20/20 - 0s - loss: 0.0192 - val_loss: 0.0263\n",
      "Epoch 47/50\n",
      "20/20 - 0s - loss: 0.0191 - val_loss: 0.0266\n",
      "Epoch 48/50\n",
      "20/20 - 0s - loss: 0.0194 - val_loss: 0.0274\n",
      "Epoch 49/50\n",
      "20/20 - 0s - loss: 0.0191 - val_loss: 0.0278\n",
      "Epoch 50/50\n",
      "20/20 - 0s - loss: 0.0194 - val_loss: 0.0284\n"
     ]
    }
   ],
   "source": [
    "# fit network\n",
    "history = model.fit(train_X, train_y, epochs=50, batch_size=32, validation_data=(test_X, test_y), verbose=2, shuffle=False)\n"
   ]
  },
  {
   "cell_type": "markdown",
   "metadata": {},
   "source": [
    "## Plot history Graph"
   ]
  },
  {
   "cell_type": "code",
   "execution_count": 27,
   "metadata": {},
   "outputs": [
    {
     "data": {
      "image/png": "[encoded data removed]",
      "text/plain": [
       "<Figure size 432x288 with 1 Axes>"
      ]
     },
     "metadata": {
      "needs_background": "light"
     },
     "output_type": "display_data"
    }
   ],
   "source": [
    "# plot history\n",
    "plt.plot(history.history['loss'], label='train')\n",
    "plt.plot(history.history['val_loss'], label='test')\n",
    "plt.legend()\n",
    "plt.show()"
   ]
  },
  {
   "cell_type": "markdown",
   "metadata": {},
   "source": [
    "### Evaluation of model with RMSE"
   ]
  },
  {
   "cell_type": "code",
   "execution_count": 28,
   "metadata": {},
   "outputs": [
    {
     "name": "stdout",
     "output_type": "stream",
     "text": [
      "Evaluation result for 3 time-step (measure in RMSE): 0.059\n"
     ]
    }
   ],
   "source": [
    "# make a prediction\n",
    "yhat = model.predict(test_X)\n",
    "test_X = test_X.reshape((test_X.shape[0], n_days*n_features))\n",
    "\n",
    "# invert scaling for forecast\n",
    "inv_yhat = concatenate((yhat, test_X[:, -(n_features-1):]), axis=1)\n",
    "inv_yhat = scaler.inverse_transform(inv_yhat)\n",
    "inv_yhat = inv_yhat[:,0]\n",
    "# invert scaling for actual\n",
    "test_y = test_y.reshape((len(test_y), 1))\n",
    "inv_y = concatenate((test_y, test_X[:, -(n_features-1):]), axis=1)\n",
    "inv_y = scaler.inverse_transform(inv_y)\n",
    "inv_y = inv_y[:,0]\n",
    "\n",
    "# calculate RMSE\n",
    "rmse_n = sqrt(mean_squared_error(inv_y, inv_yhat))\n",
    "print('Evaluation result for %s time-step (measure in RMSE): %.3f' % (n_days , rmse_n))"
   ]
  },
  {
   "cell_type": "markdown",
   "metadata": {},
   "source": [
    "## Section 9: Observations and analysis"
   ]
  },
  {
   "cell_type": "code",
   "execution_count": 29,
   "metadata": {},
   "outputs": [
    {
     "name": "stdout",
     "output_type": "stream",
     "text": [
      "Evaluation result for 1 time step (measure in RMSE): 0.058\n",
      "Evaluation result for 3 time-step (measure in RMSE): 0.059\n"
     ]
    }
   ],
   "source": [
    "print('Evaluation result for 1 time step (measure in RMSE): %.3f' % rmse_1)\n",
    "\n",
    "print('Evaluation result for %s time-step (measure in RMSE): %.3f' % (n_days , rmse_n))\n"
   ]
  },
  {
   "cell_type": "markdown",
   "metadata": {},
   "source": [
    "Training model using LSTM achieved a good accuracy"
   ]
  },
  {
   "cell_type": "markdown",
   "metadata": {},
   "source": [
    "Further improvement can be obtained by using > 1 timestep."
   ]
  },
  {
   "cell_type": "code",
   "execution_count": null,
   "metadata": {},
   "outputs": [],
   "source": []
  }
 ],
 "metadata": {
  "kernelspec": {
   "display_name": "Python 3",
   "language": "python",
   "name": "python3"
  },
  "language_info": {
   "codemirror_mode": {
    "name": "ipython",
    "version": 3
   },
   "file_extension": ".py",
   "mimetype": "text/x-python",
   "name": "python",
   "nbconvert_exporter": "python",
   "pygments_lexer": "ipython3",
   "version": "3.8.2"
  }
 },
 "nbformat": 4,
 "nbformat_minor": 2
}
